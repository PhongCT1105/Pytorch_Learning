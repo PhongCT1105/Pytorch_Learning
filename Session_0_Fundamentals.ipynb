{
  "nbformat": 4,
  "nbformat_minor": 0,
  "metadata": {
    "colab": {
      "provenance": [],
      "machine_shape": "hm",
      "gpuType": "A100",
      "authorship_tag": "ABX9TyMnZLLhR03q0xYFPHhZjuMF",
      "include_colab_link": true
    },
    "kernelspec": {
      "name": "python3",
      "display_name": "Python 3"
    },
    "language_info": {
      "name": "python"
    },
    "accelerator": "GPU"
  },
  "cells": [
    {
      "cell_type": "markdown",
      "metadata": {
        "id": "view-in-github",
        "colab_type": "text"
      },
      "source": [
        "<a href=\"https://colab.research.google.com/github/PhongCT1105/Pytorch_Learning/blob/main/Session_0_Fundamentals.ipynb\" target=\"_parent\"><img src=\"https://colab.research.google.com/assets/colab-badge.svg\" alt=\"Open In Colab\"/></a>"
      ]
    },
    {
      "cell_type": "code",
      "execution_count": null,
      "metadata": {
        "id": "06pecUZUdxUV",
        "colab": {
          "base_uri": "https://localhost:8080/",
          "height": 35
        },
        "outputId": "e014c5a0-4a53-4a38-b108-f43473fcd261"
      },
      "outputs": [
        {
          "output_type": "execute_result",
          "data": {
            "text/plain": [
              "'2.6.0+cu124'"
            ],
            "application/vnd.google.colaboratory.intrinsic+json": {
              "type": "string"
            }
          },
          "metadata": {},
          "execution_count": 2
        }
      ],
      "source": [
        "import torch\n",
        "torch.__version__"
      ]
    },
    {
      "cell_type": "markdown",
      "source": [
        "### I. Creating Tensors"
      ],
      "metadata": {
        "id": "X0fuJea4kxfz"
      }
    },
    {
      "cell_type": "code",
      "source": [
        "# Create\n",
        "\n",
        "x = torch.tensor([[[1,2,3],\n",
        "                  [4,5,6],\n",
        "                  [7,8,9],\n",
        "                  [10,11,12]]])\n",
        "print(x)\n",
        "\n",
        "print(\"Shape: \", x.shape)\n",
        "print(\"Dimensions: \", x.ndim)\n",
        "print(\"Scalar: \", x[0][1][1])\n",
        "\n",
        "# ndim: N_dimensions Total dimensions\n",
        "# shape: Size of each dimensions\n",
        "# => ndim is just len of shape"
      ],
      "metadata": {
        "colab": {
          "base_uri": "https://localhost:8080/"
        },
        "id": "D5vjuPtPhsQ7",
        "outputId": "31dbb773-fb3d-403a-ec8d-08e221ce70f7"
      },
      "execution_count": null,
      "outputs": [
        {
          "output_type": "stream",
          "name": "stdout",
          "text": [
            "tensor([[[ 1,  2,  3],\n",
            "         [ 4,  5,  6],\n",
            "         [ 7,  8,  9],\n",
            "         [10, 11, 12]]])\n",
            "Shape:  torch.Size([1, 4, 3])\n",
            "Dimensions:  3\n",
            "Scalar:  tensor(5)\n"
          ]
        }
      ]
    },
    {
      "cell_type": "code",
      "source": [
        "# Random tensor\n",
        "\n",
        "rand_tensor = torch.rand(5,2,10)\n",
        "print(rand_tensor)\n",
        "print(\"Shape: \", rand_tensor.shape)\n",
        "print(\"Dimensions: \", rand_tensor.ndim)"
      ],
      "metadata": {
        "colab": {
          "base_uri": "https://localhost:8080/"
        },
        "id": "kIH5XQAemptn",
        "outputId": "a84add63-246a-42fc-e28c-daa5c12eb986"
      },
      "execution_count": null,
      "outputs": [
        {
          "output_type": "stream",
          "name": "stdout",
          "text": [
            "tensor([[[0.0483, 0.4806, 0.7565, 0.4332, 0.0433, 0.4459, 0.0920, 0.1246,\n",
            "          0.5641, 0.1031],\n",
            "         [0.7175, 0.9589, 0.3951, 0.2381, 0.5017, 0.4763, 0.3854, 0.5095,\n",
            "          0.1963, 0.9986]],\n",
            "\n",
            "        [[0.6332, 0.6125, 0.1566, 0.8509, 0.9050, 0.8543, 0.8807, 0.4677,\n",
            "          0.6936, 0.0174],\n",
            "         [0.9112, 0.2807, 0.4042, 0.9391, 0.0621, 0.9786, 0.3168, 0.3035,\n",
            "          0.6658, 0.5319]],\n",
            "\n",
            "        [[0.0069, 0.7200, 0.2728, 0.8494, 0.8245, 0.1852, 0.3520, 0.9473,\n",
            "          0.2838, 0.8627],\n",
            "         [0.5487, 0.3885, 0.1947, 0.9287, 0.1095, 0.3478, 0.8371, 0.1861,\n",
            "          0.2805, 0.8731]],\n",
            "\n",
            "        [[0.0833, 0.2499, 0.0511, 0.4641, 0.5134, 0.8908, 0.6799, 0.9141,\n",
            "          0.5365, 0.2868],\n",
            "         [0.3584, 0.7648, 0.6074, 0.0171, 0.0572, 0.7600, 0.2211, 0.2918,\n",
            "          0.9252, 0.0383]],\n",
            "\n",
            "        [[0.7453, 0.2322, 0.0118, 0.6962, 0.2789, 0.7166, 0.7533, 0.4768,\n",
            "          0.9968, 0.9561],\n",
            "         [0.3373, 0.7655, 0.9148, 0.0995, 0.4652, 0.7304, 0.0516, 0.5485,\n",
            "          0.7831, 0.1695]]])\n",
            "Shape:  torch.Size([5, 2, 10])\n",
            "Dimensions:  3\n"
          ]
        }
      ]
    },
    {
      "cell_type": "code",
      "source": [
        "# 0 and 1 tensor for Masking\n",
        "zeros = torch.zeros(size=(3,4), dtype=torch.float32)\n",
        "ones = torch.ones(size = (2,3), dtype=torch.int)\n",
        "\n",
        "print(zeros)\n",
        "print(ones)"
      ],
      "metadata": {
        "colab": {
          "base_uri": "https://localhost:8080/"
        },
        "id": "kZai3t_GpMyC",
        "outputId": "e2ab7314-0c4e-4947-eb94-9487e5f0bacd"
      },
      "execution_count": null,
      "outputs": [
        {
          "output_type": "stream",
          "name": "stdout",
          "text": [
            "tensor([[0., 0., 0., 0.],\n",
            "        [0., 0., 0., 0.],\n",
            "        [0., 0., 0., 0.]])\n",
            "tensor([[1, 1, 1],\n",
            "        [1, 1, 1]], dtype=torch.int32)\n"
          ]
        }
      ]
    },
    {
      "cell_type": "code",
      "source": [
        "# Create a tensor with same shape\n",
        "\n",
        "tensor_range = torch.arange(start = 1, end = 10, step = 2)\n",
        "tensor_copy = torch.zeros_like(tensor_range)\n",
        "\n",
        "print(\"Original Tensor: \", tensor_range)\n",
        "print(\"New Tensor: \", tensor_copy)"
      ],
      "metadata": {
        "colab": {
          "base_uri": "https://localhost:8080/"
        },
        "id": "ZbbYYd2Hpz3g",
        "outputId": "255bb4e9-89ce-49e0-c6d0-e93d7d934e97"
      },
      "execution_count": null,
      "outputs": [
        {
          "output_type": "stream",
          "name": "stdout",
          "text": [
            "Original Tensor:  tensor([1, 3, 5, 7, 9])\n",
            "New Tensor:  tensor([0, 0, 0, 0, 0])\n"
          ]
        }
      ]
    },
    {
      "cell_type": "code",
      "source": [
        "# Tensor Atributes\n",
        "\n",
        "# dtype: Datatype, default float32, can change to float16 if want trade off speed and precision\n",
        "tensor_type = torch.tensor([3,4,5,6], dtype=torch.float16)\n",
        "\n",
        "# device: what device tensor is stored on\n",
        "tensor_type = torch.tensor([3,4,5,6], dtype=torch.float32, device = \"cpu\", requires_grad=False)\n",
        "\n",
        "print(tensor_type)\n",
        "\n",
        "# Print tensor information\n",
        "print(tensor_type.dtype)\n",
        "print(tensor_type.device)\n",
        "print(tensor_type.shape)\n"
      ],
      "metadata": {
        "colab": {
          "base_uri": "https://localhost:8080/"
        },
        "id": "9zEVeFKZtb8M",
        "outputId": "c9c0855c-276e-445e-a67f-2127b06ff2a5"
      },
      "execution_count": null,
      "outputs": [
        {
          "output_type": "stream",
          "name": "stdout",
          "text": [
            "tensor([3., 4., 5., 6.])\n",
            "torch.float32\n",
            "cpu\n",
            "torch.Size([4])\n"
          ]
        }
      ]
    },
    {
      "cell_type": "markdown",
      "source": [
        "### II. Math with Tensors"
      ],
      "metadata": {
        "id": "UBSdXoSVwdSZ"
      }
    },
    {
      "cell_type": "code",
      "source": [
        "# Create Tensor:\n",
        "x = torch.tensor([[1,2,3],\n",
        "                  [4,5,6]], dtype=torch.float32)\n",
        "\n",
        "print(x.shape)\n",
        "\n",
        "y = torch.tensor([[7,8,9]], dtype=torch.float32)\n",
        "print(y.shape)\n",
        "\n",
        "# Tranpose:\n",
        "y = y.T\n",
        "print(\"Tranpose Y for matmul: \", y.shape)\n",
        "\n",
        "# Add\n",
        "print(\"Add: \", x + 10)\n",
        "\n",
        "# Multiply / Element-wise  multiplication\n",
        "print(\"Multiply: \", x * 10)\n",
        "\n",
        "# Substract\n",
        "print(\"Subtract: \", x - 10)\n",
        "\n",
        "# Divide:\n",
        "print(\"Divide: \", x / 10)\n",
        "\n",
        "\n",
        "# Matrix Multiplication / dot producct\n",
        "print(torch.matmul(x, y))\n"
      ],
      "metadata": {
        "colab": {
          "base_uri": "https://localhost:8080/"
        },
        "id": "rN6ABL0UwitD",
        "outputId": "03bdd9d0-d224-4572-818b-d2156c30ad07"
      },
      "execution_count": null,
      "outputs": [
        {
          "output_type": "stream",
          "name": "stdout",
          "text": [
            "torch.Size([2, 3])\n",
            "torch.Size([1, 3])\n",
            "Tranpose Y for matmul:  torch.Size([3, 1])\n",
            "Add:  tensor([[11., 12., 13.],\n",
            "        [14., 15., 16.]])\n",
            "Multiply:  tensor([[10., 20., 30.],\n",
            "        [40., 50., 60.]])\n",
            "Subtract:  tensor([[-9., -8., -7.],\n",
            "        [-6., -5., -4.]])\n",
            "Divide:  tensor([[0.1000, 0.2000, 0.3000],\n",
            "        [0.4000, 0.5000, 0.6000]])\n",
            "tensor([[ 50.],\n",
            "        [122.]])\n"
          ]
        }
      ]
    },
    {
      "cell_type": "code",
      "source": [
        "# Tensor Aggregation\n",
        "\n",
        "x = torch.rand(5)\n",
        "print(x)"
      ],
      "metadata": {
        "id": "X9jSdoB-w5yX",
        "colab": {
          "base_uri": "https://localhost:8080/"
        },
        "outputId": "cefdfd94-c76f-4338-bdda-b233a8497ab7"
      },
      "execution_count": null,
      "outputs": [
        {
          "output_type": "stream",
          "name": "stdout",
          "text": [
            "tensor([0.4372, 0.7219, 0.1535, 0.2013, 0.4886])\n"
          ]
        }
      ]
    },
    {
      "cell_type": "code",
      "source": [
        "# Max\n",
        "print(torch.max(x))\n",
        "\n",
        "# Min\n",
        "print(torch.min(x))\n",
        "\n",
        "# Average\n",
        "print(torch.mean(x))\n",
        "\n",
        "# Sum\n",
        "print(torch.sum(x))"
      ],
      "metadata": {
        "colab": {
          "base_uri": "https://localhost:8080/"
        },
        "id": "dtn0i_GVEidC",
        "outputId": "68098b86-f1f2-4143-9492-b7bdc57f38c5"
      },
      "execution_count": null,
      "outputs": [
        {
          "output_type": "stream",
          "name": "stdout",
          "text": [
            "tensor(0.7219)\n",
            "tensor(0.1535)\n",
            "tensor(0.4005)\n",
            "tensor(2.0024)\n"
          ]
        }
      ]
    },
    {
      "cell_type": "code",
      "source": [
        "# Positional Agg\n",
        "print(torch.argmax(x))\n",
        "\n",
        "print(torch.argmin(x))"
      ],
      "metadata": {
        "colab": {
          "base_uri": "https://localhost:8080/"
        },
        "id": "4zMGXKxIE_kj",
        "outputId": "34eefac8-c1cc-42e8-ad42-8ff7047c27ef"
      },
      "execution_count": null,
      "outputs": [
        {
          "output_type": "stream",
          "name": "stdout",
          "text": [
            "tensor(1)\n",
            "tensor(2)\n"
          ]
        }
      ]
    },
    {
      "cell_type": "markdown",
      "source": [
        "### III. Reshaping, stacking, squeezing"
      ],
      "metadata": {
        "id": "jZeFv78wFVPt"
      }
    },
    {
      "cell_type": "code",
      "source": [
        "x = torch.rand(10)\n",
        "\n",
        "x, x.shape\n",
        "\n",
        "# => Shape = 10, so can reshape to any shape that multiplication equal to 1o"
      ],
      "metadata": {
        "colab": {
          "base_uri": "https://localhost:8080/"
        },
        "id": "QsfttkqLFUO3",
        "outputId": "62320e41-6488-4c25-a144-dd7697da4532"
      },
      "execution_count": null,
      "outputs": [
        {
          "output_type": "execute_result",
          "data": {
            "text/plain": [
              "(tensor([0.7400, 0.2708, 0.8523, 0.1773, 0.3782, 0.6444, 0.7663, 0.7335, 0.6042,\n",
              "         0.1907]),\n",
              " torch.Size([10]))"
            ]
          },
          "metadata": {},
          "execution_count": 13
        }
      ]
    },
    {
      "cell_type": "code",
      "source": [
        "# Reshapes an input tensor to a specific shape\n",
        "\n",
        "x_reshaped = x.reshape(5, 2)\n",
        "z = x.view(2,5)\n",
        "x_reshaped,z"
      ],
      "metadata": {
        "colab": {
          "base_uri": "https://localhost:8080/"
        },
        "id": "fM5CSyQUGpT-",
        "outputId": "a849dc98-a332-44d0-9051-f549d0fcaebc"
      },
      "execution_count": null,
      "outputs": [
        {
          "output_type": "execute_result",
          "data": {
            "text/plain": [
              "(tensor([[0.7400, 0.2708],\n",
              "         [0.8523, 0.1773],\n",
              "         [0.3782, 0.6444],\n",
              "         [0.7663, 0.7335],\n",
              "         [0.6042, 0.1907]]),\n",
              " tensor([[0.7400, 0.2708, 0.8523, 0.1773, 0.3782],\n",
              "         [0.6444, 0.7663, 0.7335, 0.6042, 0.1907]]))"
            ]
          },
          "metadata": {},
          "execution_count": 15
        }
      ]
    },
    {
      "cell_type": "code",
      "source": [
        "# Stacking tensor on top of each other\n",
        "x = torch.rand(1,2,5)\n",
        "print(x)\n",
        "\n",
        "\n",
        "x_stacked = torch.stack([x,x,x,x], dim = 0)\n",
        "x_stacked"
      ],
      "metadata": {
        "colab": {
          "base_uri": "https://localhost:8080/"
        },
        "id": "YVmGxTo6H_Vt",
        "outputId": "01f22ffd-80ed-4a83-ff8b-499f3932b046"
      },
      "execution_count": null,
      "outputs": [
        {
          "output_type": "stream",
          "name": "stdout",
          "text": [
            "tensor([[[0.6004, 0.4009, 0.8210, 0.1500, 0.4957],\n",
            "         [0.6034, 0.7103, 0.1370, 0.0749, 0.5188]]])\n"
          ]
        },
        {
          "output_type": "execute_result",
          "data": {
            "text/plain": [
              "tensor([[[[0.6004, 0.4009, 0.8210, 0.1500, 0.4957],\n",
              "          [0.6034, 0.7103, 0.1370, 0.0749, 0.5188]]],\n",
              "\n",
              "\n",
              "        [[[0.6004, 0.4009, 0.8210, 0.1500, 0.4957],\n",
              "          [0.6034, 0.7103, 0.1370, 0.0749, 0.5188]]],\n",
              "\n",
              "\n",
              "        [[[0.6004, 0.4009, 0.8210, 0.1500, 0.4957],\n",
              "          [0.6034, 0.7103, 0.1370, 0.0749, 0.5188]]],\n",
              "\n",
              "\n",
              "        [[[0.6004, 0.4009, 0.8210, 0.1500, 0.4957],\n",
              "          [0.6034, 0.7103, 0.1370, 0.0749, 0.5188]]]])"
            ]
          },
          "metadata": {},
          "execution_count": 32
        }
      ]
    },
    {
      "cell_type": "code",
      "source": [
        "# Squeeze is remove all 1 dimension\n",
        "print(x.shape)\n",
        "print(x.squeeze().shape)\n",
        "print(x.unsqueeze(dim = 2).shape)"
      ],
      "metadata": {
        "colab": {
          "base_uri": "https://localhost:8080/"
        },
        "id": "lCpsePrtJQEv",
        "outputId": "ae8e391c-3464-4b4e-86f8-b204aa17f34a"
      },
      "execution_count": null,
      "outputs": [
        {
          "output_type": "stream",
          "name": "stdout",
          "text": [
            "torch.Size([1, 2, 5])\n",
            "torch.Size([2, 5])\n",
            "torch.Size([1, 2, 1, 5])\n"
          ]
        }
      ]
    },
    {
      "cell_type": "code",
      "source": [
        "# Permutes\n",
        "\n",
        "x = torch.rand(1,2,5)\n",
        "print(x.shape)\n",
        "\n",
        "x_permute = torch.permute(x, (2,1,0))\n",
        "print(x_permute.shape)"
      ],
      "metadata": {
        "colab": {
          "base_uri": "https://localhost:8080/"
        },
        "id": "SJQz_J09KBDR",
        "outputId": "020344e1-3b5e-4620-d8ae-925fa57a5892"
      },
      "execution_count": null,
      "outputs": [
        {
          "output_type": "stream",
          "name": "stdout",
          "text": [
            "torch.Size([1, 2, 5])\n",
            "torch.Size([5, 2, 1])\n"
          ]
        }
      ]
    },
    {
      "cell_type": "markdown",
      "source": [
        "### III. Indexing (Simmilar to Numpy)"
      ],
      "metadata": {
        "id": "1CPcHIj7Kgb3"
      }
    },
    {
      "cell_type": "code",
      "source": [
        "x = torch.arange(1, 10).reshape(1,3,3)\n",
        "\n",
        "print(x)"
      ],
      "metadata": {
        "colab": {
          "base_uri": "https://localhost:8080/"
        },
        "id": "xJFFKI92MUJB",
        "outputId": "55874148-437c-4dcb-e871-6415e14e25e0"
      },
      "execution_count": null,
      "outputs": [
        {
          "output_type": "stream",
          "name": "stdout",
          "text": [
            "tensor([[[1, 2, 3],\n",
            "         [4, 5, 6],\n",
            "         [7, 8, 9]]])\n"
          ]
        }
      ]
    },
    {
      "cell_type": "code",
      "source": [
        "# Normal indexing\n",
        "print(x[0][2][1])\n",
        "print(x[0,2,1])\n",
        "\n",
        "# : to all\n",
        "print(x[:, 0])\n",
        "\n",
        "print(x[:,:,2])"
      ],
      "metadata": {
        "colab": {
          "base_uri": "https://localhost:8080/"
        },
        "id": "53p4DtZWMwO6",
        "outputId": "a3eca213-933a-45b1-fc7e-e114c24c1a43"
      },
      "execution_count": null,
      "outputs": [
        {
          "output_type": "stream",
          "name": "stdout",
          "text": [
            "tensor(8)\n",
            "tensor(8)\n",
            "tensor([[1, 2, 3]])\n",
            "tensor([[3, 6, 9]])\n"
          ]
        }
      ]
    },
    {
      "cell_type": "markdown",
      "source": [
        "### IV. Reproducibility (Random Seed)"
      ],
      "metadata": {
        "id": "UKagFYSbP6H_"
      }
    },
    {
      "cell_type": "code",
      "source": [
        "SEED = 42\n",
        "\n",
        "# Use seed before any random function\n",
        "torch.manual_seed(SEED)\n",
        "x = torch.rand (3,4)\n",
        "# Seed no more effect after somme random function execute\n",
        "\n",
        "torch.manual_seed(SEED)\n",
        "y = torch.rand (3,4)\n",
        "\n",
        "print(x == y)"
      ],
      "metadata": {
        "colab": {
          "base_uri": "https://localhost:8080/"
        },
        "id": "Tx7o87f4QO-7",
        "outputId": "9d1d7236-0d70-48c5-dd57-d47ac49071d7"
      },
      "execution_count": null,
      "outputs": [
        {
          "output_type": "stream",
          "name": "stdout",
          "text": [
            "tensor([[True, True, True, True],\n",
            "        [True, True, True, True],\n",
            "        [True, True, True, True]])\n"
          ]
        }
      ]
    },
    {
      "cell_type": "markdown",
      "source": [
        "### V. Accessing GPU"
      ],
      "metadata": {
        "id": "HjMifLreQqV7"
      }
    },
    {
      "cell_type": "code",
      "source": [
        "!nvidia-smi"
      ],
      "metadata": {
        "colab": {
          "base_uri": "https://localhost:8080/"
        },
        "id": "vLIaTx7JQ0KA",
        "outputId": "7e689766-8852-4356-ee9b-f1b4f1bda1aa"
      },
      "execution_count": null,
      "outputs": [
        {
          "output_type": "stream",
          "name": "stdout",
          "text": [
            "Sun May 18 16:40:31 2025       \n",
            "+-----------------------------------------------------------------------------------------+\n",
            "| NVIDIA-SMI 550.54.15              Driver Version: 550.54.15      CUDA Version: 12.4     |\n",
            "|-----------------------------------------+------------------------+----------------------+\n",
            "| GPU  Name                 Persistence-M | Bus-Id          Disp.A | Volatile Uncorr. ECC |\n",
            "| Fan  Temp   Perf          Pwr:Usage/Cap |           Memory-Usage | GPU-Util  Compute M. |\n",
            "|                                         |                        |               MIG M. |\n",
            "|=========================================+========================+======================|\n",
            "|   0  NVIDIA A100-SXM4-40GB          Off |   00000000:00:04.0 Off |                    0 |\n",
            "| N/A   31C    P0             47W /  400W |       0MiB /  40960MiB |      0%      Default |\n",
            "|                                         |                        |             Disabled |\n",
            "+-----------------------------------------+------------------------+----------------------+\n",
            "                                                                                         \n",
            "+-----------------------------------------------------------------------------------------+\n",
            "| Processes:                                                                              |\n",
            "|  GPU   GI   CI        PID   Type   Process name                              GPU Memory |\n",
            "|        ID   ID                                                               Usage      |\n",
            "|=========================================================================================|\n",
            "|  No running processes found                                                             |\n",
            "+-----------------------------------------------------------------------------------------+\n"
          ]
        }
      ]
    },
    {
      "cell_type": "code",
      "source": [
        "# Check GPU access with Pytorch\n",
        "import torch\n",
        "torch.cuda.is_available()"
      ],
      "metadata": {
        "colab": {
          "base_uri": "https://localhost:8080/"
        },
        "id": "UZogW1ngRMaH",
        "outputId": "9a0c0857-8f5b-47cf-aaba-64f4e634f157"
      },
      "execution_count": null,
      "outputs": [
        {
          "output_type": "execute_result",
          "data": {
            "text/plain": [
              "True"
            ]
          },
          "metadata": {},
          "execution_count": 3
        }
      ]
    },
    {
      "cell_type": "code",
      "source": [
        "device = \"cuda\" if torch.cuda.is_available() else \"cpu\"\n",
        "device"
      ],
      "metadata": {
        "colab": {
          "base_uri": "https://localhost:8080/",
          "height": 35
        },
        "id": "ChpcXN6zRY1S",
        "outputId": "f19746b2-6477-426b-bfce-fe47aa5f16db"
      },
      "execution_count": null,
      "outputs": [
        {
          "output_type": "execute_result",
          "data": {
            "text/plain": [
              "'cuda'"
            ],
            "application/vnd.google.colaboratory.intrinsic+json": {
              "type": "string"
            }
          },
          "metadata": {},
          "execution_count": 4
        }
      ]
    },
    {
      "cell_type": "code",
      "source": [
        "# Create tensor (default on the cpu)\n",
        "tensor = torch.tensor([1,2,3])\n",
        "\n",
        "tensor, tensor.device"
      ],
      "metadata": {
        "colab": {
          "base_uri": "https://localhost:8080/"
        },
        "id": "94HpqWZ8RkNf",
        "outputId": "6b409fe0-077b-406b-a453-cb18ecea92a1"
      },
      "execution_count": null,
      "outputs": [
        {
          "output_type": "execute_result",
          "data": {
            "text/plain": [
              "(tensor([1, 2, 3]), device(type='cpu'))"
            ]
          },
          "metadata": {},
          "execution_count": 5
        }
      ]
    },
    {
      "cell_type": "code",
      "source": [
        "# Move to GPU\n",
        "tensor = tensor.to(device)\n",
        "print(tensor, tensor.device)\n",
        "\n",
        "# Move to CPU\n",
        "tensor = tensor.cpu()\n",
        "print(tensor, tensor.device)\n"
      ],
      "metadata": {
        "colab": {
          "base_uri": "https://localhost:8080/"
        },
        "id": "yV_0EBHLSXT_",
        "outputId": "5c2bc956-fc8c-4ecc-b051-2cce107ffa1b"
      },
      "execution_count": null,
      "outputs": [
        {
          "output_type": "stream",
          "name": "stdout",
          "text": [
            "tensor([1, 2, 3], device='cuda:0') cuda:0\n",
            "tensor([1, 2, 3]) cpu\n"
          ]
        }
      ]
    },
    {
      "cell_type": "markdown",
      "source": [
        "### VI. Exercise"
      ],
      "metadata": {
        "id": "f4uQPl2jTaN7"
      }
    },
    {
      "cell_type": "code",
      "source": [],
      "metadata": {
        "id": "CW3EW1bnTc9S"
      },
      "execution_count": null,
      "outputs": []
    }
  ]
}